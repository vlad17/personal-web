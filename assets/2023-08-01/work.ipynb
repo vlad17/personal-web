{
 "cells": [
  {
   "cell_type": "code",
   "execution_count": 1,
   "id": "455cd0cb-99d0-466e-9909-6d9a55242fe3",
   "metadata": {},
   "outputs": [
    {
     "data": {
      "text/plain": [
       "0.10147428099262541"
      ]
     },
     "execution_count": 1,
     "metadata": {},
     "output_type": "execute_result"
    }
   ],
   "source": [
    "from math import sqrt\n",
    "\n",
    "# Define the values for w and h\n",
    "w = 0.05\n",
    "h = 1\n",
    "\n",
    "# Compute the expression\n",
    "w *= 2\n",
    "result = (w / h) * sqrt(1 + (3 * w**2) / (h**2 + w**2))\n",
    "\n",
    "result"
   ]
  },
  {
   "cell_type": "code",
   "execution_count": 3,
   "id": "b182d27a-3e04-4943-bb73-1c6e0bea833d",
   "metadata": {},
   "outputs": [
    {
     "data": {
      "text/plain": [
       "0.8660254037844386"
      ]
     },
     "execution_count": 3,
     "metadata": {},
     "output_type": "execute_result"
    }
   ],
   "source": [
    "sqrt(3) / 4 * 2"
   ]
  },
  {
   "cell_type": "code",
   "execution_count": 5,
   "id": "f1c5340f-cd70-4530-b8ad-a6d56bf456f6",
   "metadata": {},
   "outputs": [
    {
     "name": "stdout",
     "output_type": "stream",
     "text": [
      "The solution for a is: 0.771313409911309\n"
     ]
    }
   ],
   "source": [
    "from scipy.optimize import fsolve\n",
    "\n",
    "\n",
    "def equation(ww):\n",
    "    return (ww ** 2 / h) * sqrt(1 + (3 * ww**2) / (h**2 + ww**2)) - 0.8660254037844386\n",
    "\n",
    "\n",
    "w_initial_guess = 0.5\n",
    "w_solution = fsolve(equation, w_initial_guess)\n",
    "print(f\"The solution for a is: {w_solution[0]}\")\n"
   ]
  }
 ],
 "metadata": {
  "kernelspec": {
   "display_name": "Python 3 (ipykernel)",
   "language": "python",
   "name": "python3"
  },
  "language_info": {
   "codemirror_mode": {
    "name": "ipython",
    "version": 3
   },
   "file_extension": ".py",
   "mimetype": "text/x-python",
   "name": "python",
   "nbconvert_exporter": "python",
   "pygments_lexer": "ipython3",
   "version": "3.8.10"
  }
 },
 "nbformat": 4,
 "nbformat_minor": 5
}
