{
 "cells": [
  {
   "cell_type": "markdown",
   "metadata": {
    "id": "CVXze--qvnqH"
   },
   "source": [
    "# Distillation Explainer\n",
    "\n",
    "Distillation is a critical technique towards improving a network's quality while keeping its serving latency constant.\n",
    "\n",
    "![distill picture](distill.png)\n",
    "\n",
    "This is becoming crucial as people focus on serving larger and larger models. Image found on [LinkedIn](https://www.linkedin.com/pulse/model-compression-knowledge-distillation-swapnil-kangralkar-j8dbc/).\n",
    "\n",
    "Distillation is a powerful technique, but a couple things about it are quite mystical. The purpose of this post is to:\n",
    "\n",
    "1. Provide a very high level explainer (but mostly refer to source papers) of distillation.\n",
    "2. Show that you can create a **simple, linear example** where distillation works.\n",
    "\n",
    "\n",
    "## How is distillation implemented?\n",
    "\n",
    "At an algorithmic level, distillation, introduced by [Hinton, Vinyals, and Dean 2015](https://arxiv.org/abs/1503.02531), applied to a classification problem with labels $y=1,\\cdots,d$ proceeds as follows.\n",
    "\n",
    "1. Train a large, expensive teacher network $T(x;\\mu)$ to predict the distribution $y|x$ (a categorical distribution on $[d]$, $\\Delta_d$) from a large dataset of $(x, y)$ pairs; this is done by minimizing negative log-likelihood (NLL) of the teacher's prediction $\\min_\\mu -\\log T(x; \\mu)_y$, yielding $\\mu_*$.\n",
    "2. Train your smaller, cheaper network $S(x;\\theta)$ on a combined loss from the data NLL and matching the teacher distribution by minimzing cross-entropy $H(S(x;\\theta)||T(x;\\mu_*))=-\\sum_{i=1}^d T(x; \\mu_*)\\log S(x; \\theta)$, i.e., $\\min_\\theta =  -\\log S(x; \\theta)_y + \\alpha H(S(x;\\theta)||T(x;\\mu_*)))(x)$. Since $\\mu_*$ is fixed, optimizing the latter term is equivalent to minimizing $D_{\\mathrm{KL}}(S||T)$, where $\\alpha$ is some hyper.\n",
    "\n",
    "This has been scaled up to language models too, see [Anil et al 2018](https://arxiv.org/abs/1804.03235).\n",
    "\n",
    "## Why woudn't it work?\n",
    "\n",
    "At first, I found the fact that distillation helps mind-bending. To understand why I was confused, let's look at the distillation loss for $\\theta$:\n",
    "\n",
    "$$\n",
    "-\\log S(x; \\theta)_y + \\alpha H(S(x;\\theta)||T(x;\\mu_*)) = c_\\alpha H\\left(S(x;\\theta)\\bigg|\\bigg|\\frac{\\delta_y +\\alpha T(x;\\mu_*)}{1+\\alpha}\\right)\n",
    "$$\n",
    "\n",
    "That is, distillation loss is, up to a constant $c_\\alpha$, equivalent to softening our data label $y$ by the teacher's predictions $T(x;\\mu_*)$\n",
    "\n",
    "We started with a dataset. Ran it through some matmuls, $T(x;\\mu_*)$. So if we view the dataset as a huge random variable (rv) $D$, $\\mu_*$ and indeed $T(x;\\mu_*)$ is just some other rv which is a very complicated function of $D$ (since they resulted from SGD or some training process applied to $D$).\n",
    "\n",
    "So we just took our clean labels $y$ and added noise to them! And it helped! Indeed, we can formalize this concern in the case $\\alpha=\\infty$ (so that the distillation label $y'=T(x;\\mu_*)$. In practice, and even in the linear setting I discuss next, this still works, in that train and test loss improve over using $y$.\n",
    "\n",
    "If we train with just $y'$ then the training process forms a Markov chain conditioned on all $x$: $y \\rightarrow \\mu_*\\rightarrow \\theta_*$ (given $\\mu_*$, and therefore $y'$, the training of $\\theta_*$ is conditionally independent of $y$).\n",
    "\n",
    "Then by the [data processing inequality](https://en.wikipedia.org/wiki/Data_processing_inequality), the mutual information $I(y, \\mu_*)\\ge I_{\\alpha=\\infty}(y, \\theta_*)$. There's no paradox here, obviously, since distillation works, but it feels wrong to distance ourselves from the true label. We don't know the relationship between $ I_{\\alpha=\\infty}(y, \\theta_*)$ and $ I_{\\alpha=0}(y, \\theta_*)$ but this seems like a step in the wrong direction.\n",
    "\n",
    "This concern could be framed as an invocation [Vapnik's principle](https://unknowngenius.com/blog/archives/2010/11/24/vapniks-principle/): \"When solving a problem of interest, do not solve a more general problem as an intermediate step.\"\n",
    "\n",
    "## Why does it work?\n",
    "\n",
    "In short, it can be the case that $ I_{\\alpha=\\infty}(y, \\theta_*) > I_{\\alpha=0}(y, \\theta_*)$ because of variance reduction. The teacher makes the labels less noisy.\n",
    "\n",
    "The underlying classification problem has $(X, Y)\\sim\\mathcal{D}$ where noisy $Y|X$ is still stochastic. One can imagine that for a logistic loss, the variance of the training loss from $n$ examples derived from the dataset $(X, \\mathbb{E}[Y|X])$ is smaller than that of the training loss from $n$ examples of $(X, Y)$. For a probabilistic binary model $p_\\theta$ parameterized by $\\theta$:\n",
    "\n",
    "$$\n",
    "\\mathrm{var}\\ \\frac{1}{n}\\sum_i\\log(1+\\exp(-Y_ip_\\theta(X_i)))\\ge \\mathrm{var}\\ \\frac{1}{n}\\sum_i\\log(1+\\exp(-\\mathbb{E}[Y_i|X_i]p_\\theta(x_i)))\\,\\,,\n",
    "$$\n",
    "where this holds by Jensen and the fact that log loss is convex (note this still holds for neural nets $p_\\theta$)\n",
    "\n",
    "So if instead of $\\mathbb{E}[Y|X]$ we use a larger neural network teacher $\\hat f(X)\\approx \\mathbb{E}[Y|X]$, so long as the _teacher itself_ does not add more variance, then knowledge distillation can indeed be useful.\n",
    "\n",
    "The below shows a non-deep simple example in the low-data setting where this matters, but again, we rely on the fact that the teacher has a strong inductive bias so that the last caveat is met.\n"
   ]
  },
  {
   "cell_type": "code",
   "execution_count": 2,
   "metadata": {
    "id": "G9bRuqqcu5oy"
   },
   "outputs": [],
   "source": [
    "import numpy as np\n",
    "from sklearn.base import clone\n",
    "from sklearn.preprocessing import PolynomialFeatures, FunctionTransformer\n",
    "from sklearn.pipeline import make_pipeline\n",
    "from sklearn.linear_model import LogisticRegression, LinearRegression\n",
    "from sklearn.model_selection import train_test_split\n",
    "from scipy.special import expit\n",
    "from sklearn.metrics import log_loss"
   ]
  },
  {
   "cell_type": "code",
   "execution_count": 3,
   "metadata": {
    "id": "cGwCCItczmF-"
   },
   "outputs": [],
   "source": [
    "def base_distribution(rng, n):\n",
    "  x = rng.standard_normal(n) * 10\n",
    "  ey = 0.4 * np.sin(x) + 0.5\n",
    "  y = rng.binomial(1, ey)\n",
    "  return x[:, np.newaxis], y"
   ]
  },
  {
   "cell_type": "code",
   "execution_count": 4,
   "metadata": {
    "id": "cTs-W6TFvyWz"
   },
   "outputs": [],
   "source": [
    "def run_kd(num_training_ex, x, y):\n",
    "  test_prop = 1 - num_training_ex / len(x)\n",
    "  xtr, xte, ytr, yte = train_test_split(x, y, test_size=test_prop, random_state=42)\n",
    "\n",
    "  # Student is from a model class that won't be able to reconstruct the ground\n",
    "  # truth\n",
    "  degree = 3\n",
    "  student = make_pipeline(\n",
    "      PolynomialFeatures(degree),\n",
    "      LogisticRegression(max_iter=1000))\n",
    "\n",
    "  # Teacher comes from a better model class\n",
    "  teacher = make_pipeline(\n",
    "      FunctionTransformer(np.sin),\n",
    "      LogisticRegression(max_iter=1000))\n",
    "\n",
    "  student.fit(xtr, ytr)\n",
    "  teacher.fit(xtr, ytr)\n",
    "\n",
    "  teacher_labels = teacher.decision_function(xtr)\n",
    "\n",
    "  # Hack to train on soft targets\n",
    "  # https://stackoverflow.com/a/60969923\n",
    "\n",
    "  distilled = make_pipeline(\n",
    "      PolynomialFeatures(degree),\n",
    "      LinearRegression())\n",
    "\n",
    "  distilled.fit(xtr, teacher_labels)\n",
    "  distilled.decision_function = distilled.predict\n",
    "\n",
    "  models = {'student': student, 'teacher': teacher, 'distilled': distilled}\n",
    "  datasets = {'train': (xtr, ytr), 'test': (xte, yte)}\n",
    "\n",
    "  results = {}\n",
    "\n",
    "  for model_name, model in models.items():\n",
    "    # print(model_name)\n",
    "    for split_name, (x, y) in datasets.items():\n",
    "      pred = model.decision_function(x)\n",
    "      pred = expit(pred)\n",
    "      # print('  {:10} {:.4f}'.format(split_name, log_loss(y, pred)))\n",
    "      results[model_name + '.' + split_name] = log_loss(y, pred)\n",
    "\n",
    "  return results"
   ]
  },
  {
   "cell_type": "code",
   "execution_count": 5,
   "metadata": {
    "id": "wPkObKrvwdcu"
   },
   "outputs": [],
   "source": [
    "results = None\n",
    "ntrials = 15\n",
    "import jax\n",
    "nexs = np.arange(10, 50, 5, int)\n",
    "for nex in nexs:\n",
    "  rng = np.random.default_rng(1234)\n",
    "  trials = [run_kd(nex, *base_distribution(rng, 10000)) for _ in range(ntrials)]\n",
    "  # List of dicts to dict of singleton list of average\n",
    "  run = jax.tree_map(lambda *xs: [np.mean(xs)], *trials)\n",
    "  results = run if not results else {k: results[k] + run[k] for k in results}"
   ]
  },
  {
   "cell_type": "code",
   "execution_count": 6,
   "metadata": {
    "colab": {
     "height": 573
    },
    "executionInfo": {
     "elapsed": 548,
     "status": "ok",
     "timestamp": 1659974182636,
     "user": {
      "displayName": "Daniel Suo",
      "userId": "04351226009722899460"
     },
     "user_tz": 240
    },
    "id": "kZD_R0eF9nol",
    "outputId": "3fe5eb31-3a64-4ed0-fa1e-d3773dc5acd3"
   },
   "outputs": [
    {
     "data": {
      "image/png": "[encoded data removed]",
      "text/plain": [
       "<Figure size 432x288 with 1 Axes>"
      ]
     },
     "metadata": {
      "needs_background": "light"
     },
     "output_type": "display_data"
    },
    {
     "data": {
      "image/png": "[encoded data removed]",
      "text/plain": [
       "<Figure size 432x288 with 1 Axes>"
      ]
     },
     "metadata": {
      "needs_background": "light"
     },
     "output_type": "display_data"
    }
   ],
   "source": [
    "from matplotlib import pyplot as plt\n",
    "\n",
    "for split in ['train', 'test']:\n",
    "  for k, v in results.items():\n",
    "    if split in k:\n",
    "      plt.plot(nexs, v, label=k.replace('.' + split, ''))\n",
    "  plt.legend()\n",
    "  plt.title(split)\n",
    "  plt.xlabel('num training examples')\n",
    "  plt.ylabel('logloss')\n",
    "  plt.show()"
   ]
  },
  {
   "cell_type": "markdown",
   "metadata": {
    "id": "SUOOy3J-K8AI"
   },
   "source": [
    "## Is that all there is to it?\n",
    "\n",
    "Not quite. With neural nets, we do see some really intersting training phenomena not fully accounted for by the story above. For instance, self-distillation (where the \"teacher\" is the same size as the student) somehow _works_!\n",
    "\n",
    "There are interactions with imperfect non-convex optimization in the deep neural network setting which are still a research topic. For more, check out a [Zeyuan Allen-Zhu and Yuanzhi Li blog post from MSR](https://www.microsoft.com/en-us/research/blog/three-mysteries-in-deep-learning-ensemble-knowledge-distillation-and-self-distillation/)"
   ]
  }
 ],
 "metadata": {
  "colab": {
   "last_runtime": {
    "build_target": "//smartass/analysis/python:smartass_colab_runtime",
    "kind": "shared"
   },
   "provenance": []
  },
  "kernelspec": {
   "display_name": "Python 3 (ipykernel)",
   "language": "python",
   "name": "python3"
  },
  "language_info": {
   "codemirror_mode": {
    "name": "ipython",
    "version": 3
   },
   "file_extension": ".py",
   "mimetype": "text/x-python",
   "name": "python",
   "nbconvert_exporter": "python",
   "pygments_lexer": "ipython3",
   "version": "3.8.10"
  }
 },
 "nbformat": 4,
 "nbformat_minor": 1
}
